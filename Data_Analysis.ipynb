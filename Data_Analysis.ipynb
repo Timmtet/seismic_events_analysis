{
 "cells": [
  {
   "cell_type": "markdown",
   "id": "40abdef8",
   "metadata": {},
   "source": [
    "# DATA ANALYSIS"
   ]
  },
  {
   "cell_type": "markdown",
   "id": "dc919596",
   "metadata": {},
   "source": [
    "## Loading the dataset"
   ]
  },
  {
   "cell_type": "markdown",
   "id": "16a69526",
   "metadata": {},
   "source": [
    "First things first, we will import the required libraries"
   ]
  },
  {
   "cell_type": "code",
   "execution_count": 8,
   "id": "d3d41a67",
   "metadata": {},
   "outputs": [],
   "source": [
    "# import pandas\n",
    "import pandas as pd"
   ]
  },
  {
   "cell_type": "markdown",
   "id": "182961d8",
   "metadata": {},
   "source": [
    "Now, we will load the cleaned dataset into the notebook"
   ]
  },
  {
   "cell_type": "code",
   "execution_count": 11,
   "id": "b76892ec",
   "metadata": {},
   "outputs": [],
   "source": [
    "# Read the dataset 'quakes-cleaned.csv' into a pandas DataFrame.\n",
    "# Use the values in the first column as the index for the DataFrame.\n",
    "df = pd.read_csv('quakes-cleaned.csv', index_col=0)"
   ]
  },
  {
   "cell_type": "markdown",
   "id": "f8b75409",
   "metadata": {},
   "source": [
    "Let us see the first few rows in the dataset"
   ]
  },
  {
   "cell_type": "code",
   "execution_count": 12,
   "id": "a83e97db",
   "metadata": {},
   "outputs": [
    {
     "data": {
      "text/html": [
       "<div>\n",
       "<style scoped>\n",
       "    .dataframe tbody tr th:only-of-type {\n",
       "        vertical-align: middle;\n",
       "    }\n",
       "\n",
       "    .dataframe tbody tr th {\n",
       "        vertical-align: top;\n",
       "    }\n",
       "\n",
       "    .dataframe thead th {\n",
       "        text-align: right;\n",
       "    }\n",
       "</style>\n",
       "<table border=\"1\" class=\"dataframe\">\n",
       "  <thead>\n",
       "    <tr style=\"text-align: right;\">\n",
       "      <th></th>\n",
       "      <th>time.1</th>\n",
       "      <th>latitude</th>\n",
       "      <th>longitude</th>\n",
       "      <th>depth</th>\n",
       "      <th>mag</th>\n",
       "      <th>magType</th>\n",
       "      <th>nst</th>\n",
       "      <th>gap</th>\n",
       "      <th>dmin</th>\n",
       "      <th>rms</th>\n",
       "      <th>...</th>\n",
       "      <th>place</th>\n",
       "      <th>type</th>\n",
       "      <th>horizontalError</th>\n",
       "      <th>depthError</th>\n",
       "      <th>magError</th>\n",
       "      <th>magNst</th>\n",
       "      <th>status</th>\n",
       "      <th>locationSource</th>\n",
       "      <th>magSource</th>\n",
       "      <th>state_country</th>\n",
       "    </tr>\n",
       "    <tr>\n",
       "      <th>time</th>\n",
       "      <th></th>\n",
       "      <th></th>\n",
       "      <th></th>\n",
       "      <th></th>\n",
       "      <th></th>\n",
       "      <th></th>\n",
       "      <th></th>\n",
       "      <th></th>\n",
       "      <th></th>\n",
       "      <th></th>\n",
       "      <th></th>\n",
       "      <th></th>\n",
       "      <th></th>\n",
       "      <th></th>\n",
       "      <th></th>\n",
       "      <th></th>\n",
       "      <th></th>\n",
       "      <th></th>\n",
       "      <th></th>\n",
       "      <th></th>\n",
       "      <th></th>\n",
       "    </tr>\n",
       "  </thead>\n",
       "  <tbody>\n",
       "    <tr>\n",
       "      <th>2023-11-15 09:05:07.304000+00:00</th>\n",
       "      <td>2023-11-15 09:05:07.304000+00:00</td>\n",
       "      <td>61.580800</td>\n",
       "      <td>-149.847000</td>\n",
       "      <td>32.800000</td>\n",
       "      <td>1.70</td>\n",
       "      <td>ml</td>\n",
       "      <td>0</td>\n",
       "      <td>0.0</td>\n",
       "      <td>0.0</td>\n",
       "      <td>0.22</td>\n",
       "      <td>...</td>\n",
       "      <td>5 km SSW of Houston, Alaska</td>\n",
       "      <td>earthquake</td>\n",
       "      <td>0.00</td>\n",
       "      <td>0.20</td>\n",
       "      <td>0.00</td>\n",
       "      <td>0</td>\n",
       "      <td>automatic</td>\n",
       "      <td>ak</td>\n",
       "      <td>ak</td>\n",
       "      <td>Beavertail Drive, Matanuska-Susitna, Alaska, U...</td>\n",
       "    </tr>\n",
       "    <tr>\n",
       "      <th>2023-11-15 08:53:06.688000+00:00</th>\n",
       "      <td>2023-11-15 08:53:06.688000+00:00</td>\n",
       "      <td>61.079400</td>\n",
       "      <td>-147.883000</td>\n",
       "      <td>14.800000</td>\n",
       "      <td>1.00</td>\n",
       "      <td>ml</td>\n",
       "      <td>0</td>\n",
       "      <td>0.0</td>\n",
       "      <td>0.0</td>\n",
       "      <td>0.80</td>\n",
       "      <td>...</td>\n",
       "      <td>55 km NE of Whittier, Alaska</td>\n",
       "      <td>earthquake</td>\n",
       "      <td>0.00</td>\n",
       "      <td>0.30</td>\n",
       "      <td>0.00</td>\n",
       "      <td>0</td>\n",
       "      <td>automatic</td>\n",
       "      <td>ak</td>\n",
       "      <td>ak</td>\n",
       "      <td>Chugach, Alaska, United States</td>\n",
       "    </tr>\n",
       "    <tr>\n",
       "      <th>2023-11-15 08:41:52.480000+00:00</th>\n",
       "      <td>2023-11-15 08:41:52.480000+00:00</td>\n",
       "      <td>19.380667</td>\n",
       "      <td>-155.285339</td>\n",
       "      <td>0.320000</td>\n",
       "      <td>1.73</td>\n",
       "      <td>md</td>\n",
       "      <td>15</td>\n",
       "      <td>153.0</td>\n",
       "      <td>0.0</td>\n",
       "      <td>0.20</td>\n",
       "      <td>...</td>\n",
       "      <td>8 km SW of Volcano, Hawaii</td>\n",
       "      <td>earthquake</td>\n",
       "      <td>0.33</td>\n",
       "      <td>0.38</td>\n",
       "      <td>0.59</td>\n",
       "      <td>15</td>\n",
       "      <td>automatic</td>\n",
       "      <td>hv</td>\n",
       "      <td>hv</td>\n",
       "      <td>Volcano, Volcano CDP, Hawaiʻi County, Hawaii, ...</td>\n",
       "    </tr>\n",
       "    <tr>\n",
       "      <th>2023-11-15 07:44:53.035000+00:00</th>\n",
       "      <td>2023-11-15 07:44:53.035000+00:00</td>\n",
       "      <td>61.638200</td>\n",
       "      <td>-149.782800</td>\n",
       "      <td>32.900000</td>\n",
       "      <td>1.90</td>\n",
       "      <td>ml</td>\n",
       "      <td>0</td>\n",
       "      <td>0.0</td>\n",
       "      <td>0.0</td>\n",
       "      <td>0.31</td>\n",
       "      <td>...</td>\n",
       "      <td>Others</td>\n",
       "      <td>earthquake</td>\n",
       "      <td>0.00</td>\n",
       "      <td>0.20</td>\n",
       "      <td>0.00</td>\n",
       "      <td>0</td>\n",
       "      <td>automatic</td>\n",
       "      <td>ak</td>\n",
       "      <td>ak</td>\n",
       "      <td>Houston, Matanuska-Susitna, Alaska, 99694, Uni...</td>\n",
       "    </tr>\n",
       "    <tr>\n",
       "      <th>2023-11-15 07:19:44.540000+00:00</th>\n",
       "      <td>2023-11-15 07:19:44.540000+00:00</td>\n",
       "      <td>18.972166</td>\n",
       "      <td>-155.451660</td>\n",
       "      <td>34.759998</td>\n",
       "      <td>1.87</td>\n",
       "      <td>md</td>\n",
       "      <td>37</td>\n",
       "      <td>236.0</td>\n",
       "      <td>0.0</td>\n",
       "      <td>0.12</td>\n",
       "      <td>...</td>\n",
       "      <td>17 km SE of Naalehu, Hawaii</td>\n",
       "      <td>earthquake</td>\n",
       "      <td>0.71</td>\n",
       "      <td>0.89</td>\n",
       "      <td>0.88</td>\n",
       "      <td>5</td>\n",
       "      <td>automatic</td>\n",
       "      <td>hv</td>\n",
       "      <td>hv</td>\n",
       "      <td>United States</td>\n",
       "    </tr>\n",
       "  </tbody>\n",
       "</table>\n",
       "<p>5 rows × 23 columns</p>\n",
       "</div>"
      ],
      "text/plain": [
       "                                                            time.1   latitude  \\\n",
       "time                                                                            \n",
       "2023-11-15 09:05:07.304000+00:00  2023-11-15 09:05:07.304000+00:00  61.580800   \n",
       "2023-11-15 08:53:06.688000+00:00  2023-11-15 08:53:06.688000+00:00  61.079400   \n",
       "2023-11-15 08:41:52.480000+00:00  2023-11-15 08:41:52.480000+00:00  19.380667   \n",
       "2023-11-15 07:44:53.035000+00:00  2023-11-15 07:44:53.035000+00:00  61.638200   \n",
       "2023-11-15 07:19:44.540000+00:00  2023-11-15 07:19:44.540000+00:00  18.972166   \n",
       "\n",
       "                                   longitude      depth   mag magType  nst  \\\n",
       "time                                                                         \n",
       "2023-11-15 09:05:07.304000+00:00 -149.847000  32.800000  1.70      ml    0   \n",
       "2023-11-15 08:53:06.688000+00:00 -147.883000  14.800000  1.00      ml    0   \n",
       "2023-11-15 08:41:52.480000+00:00 -155.285339   0.320000  1.73      md   15   \n",
       "2023-11-15 07:44:53.035000+00:00 -149.782800  32.900000  1.90      ml    0   \n",
       "2023-11-15 07:19:44.540000+00:00 -155.451660  34.759998  1.87      md   37   \n",
       "\n",
       "                                    gap  dmin   rms  ...  \\\n",
       "time                                                 ...   \n",
       "2023-11-15 09:05:07.304000+00:00    0.0   0.0  0.22  ...   \n",
       "2023-11-15 08:53:06.688000+00:00    0.0   0.0  0.80  ...   \n",
       "2023-11-15 08:41:52.480000+00:00  153.0   0.0  0.20  ...   \n",
       "2023-11-15 07:44:53.035000+00:00    0.0   0.0  0.31  ...   \n",
       "2023-11-15 07:19:44.540000+00:00  236.0   0.0  0.12  ...   \n",
       "\n",
       "                                                         place        type  \\\n",
       "time                                                                         \n",
       "2023-11-15 09:05:07.304000+00:00   5 km SSW of Houston, Alaska  earthquake   \n",
       "2023-11-15 08:53:06.688000+00:00  55 km NE of Whittier, Alaska  earthquake   \n",
       "2023-11-15 08:41:52.480000+00:00    8 km SW of Volcano, Hawaii  earthquake   \n",
       "2023-11-15 07:44:53.035000+00:00                        Others  earthquake   \n",
       "2023-11-15 07:19:44.540000+00:00   17 km SE of Naalehu, Hawaii  earthquake   \n",
       "\n",
       "                                 horizontalError depthError magError  magNst  \\\n",
       "time                                                                           \n",
       "2023-11-15 09:05:07.304000+00:00            0.00       0.20     0.00       0   \n",
       "2023-11-15 08:53:06.688000+00:00            0.00       0.30     0.00       0   \n",
       "2023-11-15 08:41:52.480000+00:00            0.33       0.38     0.59      15   \n",
       "2023-11-15 07:44:53.035000+00:00            0.00       0.20     0.00       0   \n",
       "2023-11-15 07:19:44.540000+00:00            0.71       0.89     0.88       5   \n",
       "\n",
       "                                     status  locationSource  magSource  \\\n",
       "time                                                                     \n",
       "2023-11-15 09:05:07.304000+00:00  automatic              ak         ak   \n",
       "2023-11-15 08:53:06.688000+00:00  automatic              ak         ak   \n",
       "2023-11-15 08:41:52.480000+00:00  automatic              hv         hv   \n",
       "2023-11-15 07:44:53.035000+00:00  automatic              ak         ak   \n",
       "2023-11-15 07:19:44.540000+00:00  automatic              hv         hv   \n",
       "\n",
       "                                                                      state_country  \n",
       "time                                                                                 \n",
       "2023-11-15 09:05:07.304000+00:00  Beavertail Drive, Matanuska-Susitna, Alaska, U...  \n",
       "2023-11-15 08:53:06.688000+00:00                     Chugach, Alaska, United States  \n",
       "2023-11-15 08:41:52.480000+00:00  Volcano, Volcano CDP, Hawaiʻi County, Hawaii, ...  \n",
       "2023-11-15 07:44:53.035000+00:00  Houston, Matanuska-Susitna, Alaska, 99694, Uni...  \n",
       "2023-11-15 07:19:44.540000+00:00                                      United States  \n",
       "\n",
       "[5 rows x 23 columns]"
      ]
     },
     "execution_count": 12,
     "metadata": {},
     "output_type": "execute_result"
    }
   ],
   "source": [
    "df.head()"
   ]
  },
  {
   "cell_type": "markdown",
   "id": "48c94af9",
   "metadata": {},
   "source": [
    "## Insights"
   ]
  },
  {
   "cell_type": "markdown",
   "id": "acf40556",
   "metadata": {},
   "source": [
    "### 1. What is the most common seismic event type during the specified time period?"
   ]
  },
  {
   "cell_type": "markdown",
   "id": "a3501a96",
   "metadata": {},
   "source": [
    "We will attempt to investigate which seismic event was predominant during the period of time in consideration."
   ]
  },
  {
   "cell_type": "code",
   "execution_count": 13,
   "id": "23e6e1b0",
   "metadata": {},
   "outputs": [
    {
     "data": {
      "text/plain": [
       "earthquake                18581\n",
       "quarry blast                270\n",
       "ice quake                   230\n",
       "explosion                   134\n",
       "other event                  17\n",
       "volcanic eruption             9\n",
       "experimental explosion        1\n",
       "landslide                     1\n",
       "mining explosion              1\n",
       "Name: type, dtype: int64"
      ]
     },
     "execution_count": 13,
     "metadata": {},
     "output_type": "execute_result"
    }
   ],
   "source": [
    "df.type.value_counts()"
   ]
  },
  {
   "cell_type": "markdown",
   "id": "63fd76cc",
   "metadata": {},
   "source": [
    "**During the two-and-a-half-month period, seismic events were predominantly earthquakes, accounting for approximately 96% of the total occurrences.**"
   ]
  },
  {
   "cell_type": "markdown",
   "id": "699919e0",
   "metadata": {},
   "source": [
    "### 2. What magnitudes characterize the seismic events observed during the specified time period?"
   ]
  },
  {
   "cell_type": "code",
   "execution_count": 14,
   "id": "aa5fd4e7",
   "metadata": {},
   "outputs": [
    {
     "data": {
      "text/plain": [
       "count    19244.000000\n",
       "mean         2.156412\n",
       "std          1.141293\n",
       "min          1.000000\n",
       "25%          1.320000\n",
       "50%          1.800000\n",
       "75%          2.470000\n",
       "max          7.100000\n",
       "Name: mag, dtype: float64"
      ]
     },
     "execution_count": 14,
     "metadata": {},
     "output_type": "execute_result"
    }
   ],
   "source": [
    "df.mag.describe()"
   ]
  },
  {
   "cell_type": "markdown",
   "id": "eb0ff77c",
   "metadata": {},
   "source": [
    "**Between September 1st, 2023, and 9:30 am on November 15th, 2023, 19,244 seismic events were recorded. On average, these events had a magnitude of approximately 2.156 units, indicating a moderate strength. The variability around this average is captured by a standard deviation of 1.141. Quartiles reveal that the central 50% of earthquakes fell within the range of 1.320 to 2.470 units. The dataset shows a diverse range of magnitudes, with a minimum of 1.000 and a maximum of 7.100 units.**"
   ]
  },
  {
   "cell_type": "markdown",
   "id": "0629c09b",
   "metadata": {},
   "source": [
    "### 3. What depth range characterizes the seismic events observed within the specified time frame?"
   ]
  },
  {
   "cell_type": "code",
   "execution_count": 15,
   "id": "73e56bdb",
   "metadata": {},
   "outputs": [
    {
     "data": {
      "text/plain": [
       "count    19244.000000\n",
       "mean        33.060217\n",
       "std         64.335900\n",
       "min         -3.430000\n",
       "25%          5.290000\n",
       "50%         10.000000\n",
       "75%         35.000000\n",
       "max        675.265000\n",
       "Name: depth, dtype: float64"
      ]
     },
     "execution_count": 15,
     "metadata": {},
     "output_type": "execute_result"
    }
   ],
   "source": [
    "df.depth.describe()"
   ]
  },
  {
   "cell_type": "markdown",
   "id": "8b57109c",
   "metadata": {},
   "source": [
    "**The dataset, comprising 19,244 seismic events during the specified period, shows an average depth of approximately 33.06 units. However, the data exhibits notable variability with a standard deviation of about 64.34 units. The median depth stands at 10.00 units, while the maximum recorded depth reaches 675.27 units, representing the deepest seismic event in the dataset.**\n",
    "\n",
    "**A minimum depth of -3.43 units was recorded. Notably, in accordance with the U.S. Geological Survey (2018),  positive depths indicate downward from sea level, and negative depths indicate upward from sea level.**"
   ]
  },
  {
   "cell_type": "markdown",
   "id": "4c01c1cb",
   "metadata": {},
   "source": [
    "Now, let us see the proportion on the seismic events that had negative depths"
   ]
  },
  {
   "cell_type": "code",
   "execution_count": 16,
   "id": "c414f566",
   "metadata": {},
   "outputs": [
    {
     "data": {
      "text/plain": [
       "2.4007482851797963"
      ]
     },
     "execution_count": 16,
     "metadata": {},
     "output_type": "execute_result"
    }
   ],
   "source": [
    "# proportion of seismic events with negative depths\n",
    "df[df.depth < 0].shape[0]/df.shape[0] * 100"
   ]
  },
  {
   "cell_type": "markdown",
   "id": "183ea939",
   "metadata": {},
   "source": [
    "**About  2.4% of the seismic events during this period occurred above sea level.**"
   ]
  },
  {
   "cell_type": "markdown",
   "id": "64215062",
   "metadata": {},
   "source": [
    "### 4. Which seismic detection and location method prevailed during the specified period?"
   ]
  },
  {
   "cell_type": "markdown",
   "id": "9ca79dc8",
   "metadata": {},
   "source": [
    "**According to the University of Alaska's Fairbanks (2018), seismic event location stages can be referred to as automatic, reviewed or Revised. The term \"automatic\" denotes events detected and reported by seismic monitoring systems without human intervention, whereas \"reviewed\" indicates events that have undergone manual inspection and validation by seismologists or experts. Revised refers to events that have undergone subsequent updates or adjustments after an initial report.**\n",
    "\n",
    "**Therefore, leveraging the information in the status column, we will investigate the predominant seismic detection method during the specified time period**"
   ]
  },
  {
   "cell_type": "code",
   "execution_count": 17,
   "id": "35fc2860",
   "metadata": {},
   "outputs": [
    {
     "data": {
      "text/plain": [
       "reviewed     16801\n",
       "automatic     2443\n",
       "Name: status, dtype: int64"
      ]
     },
     "execution_count": 17,
     "metadata": {},
     "output_type": "execute_result"
    }
   ],
   "source": [
    "df.status.value_counts()"
   ]
  },
  {
   "cell_type": "markdown",
   "id": "611074d8",
   "metadata": {},
   "source": [
    "**Apparently, a greater percentage of the seismic events were manually inspected and validated.**"
   ]
  },
  {
   "cell_type": "markdown",
   "id": "5d8218cc",
   "metadata": {},
   "source": [
    "Let us examine the proportion of events that were manually inspected."
   ]
  },
  {
   "cell_type": "code",
   "execution_count": 18,
   "id": "fa652ca9",
   "metadata": {},
   "outputs": [
    {
     "data": {
      "text/plain": [
       "87.30513406776139"
      ]
     },
     "execution_count": 18,
     "metadata": {},
     "output_type": "execute_result"
    }
   ],
   "source": [
    "df[df.status == 'reviewed'].shape[0]/ df.shape[0] * 100"
   ]
  },
  {
   "cell_type": "markdown",
   "id": "06dbaf6c",
   "metadata": {},
   "source": [
    "**About 87% of the seismic events were manually validated.**"
   ]
  },
  {
   "cell_type": "markdown",
   "id": "73553578",
   "metadata": {},
   "source": [
    "### 5. Which geographical area is associated with the most seismic activity during the study timeframe?"
   ]
  },
  {
   "cell_type": "markdown",
   "id": "346143c4",
   "metadata": {},
   "source": [
    "To explore which geographical area is associated with the highest seismic activity during the study timeframe, we will conduct a count of seismic events per geographical location. This analysis aims to identify countries with a higher incidence of seismic occurrences compared to others."
   ]
  },
  {
   "cell_type": "markdown",
   "id": "3ca89124",
   "metadata": {},
   "source": [
    "To accomplish this task, we will execute a data splitting operation on the 'state_country' column. This operation aims to extract the country names corresponding to the geographical location where a seismic event occurred."
   ]
  },
  {
   "cell_type": "code",
   "execution_count": 19,
   "id": "aa8d4340",
   "metadata": {},
   "outputs": [],
   "source": [
    "# spliting the values in the state_country column\n",
    "df['country'] = df['state_country'].apply(lambda x: x.split(',')[-1].strip() if ',' in x else x.strip())"
   ]
  },
  {
   "cell_type": "code",
   "execution_count": 20,
   "id": "1125a582",
   "metadata": {},
   "outputs": [
    {
     "data": {
      "text/html": [
       "<div>\n",
       "<style scoped>\n",
       "    .dataframe tbody tr th:only-of-type {\n",
       "        vertical-align: middle;\n",
       "    }\n",
       "\n",
       "    .dataframe tbody tr th {\n",
       "        vertical-align: top;\n",
       "    }\n",
       "\n",
       "    .dataframe thead th {\n",
       "        text-align: right;\n",
       "    }\n",
       "</style>\n",
       "<table border=\"1\" class=\"dataframe\">\n",
       "  <thead>\n",
       "    <tr style=\"text-align: right;\">\n",
       "      <th></th>\n",
       "      <th>time.1</th>\n",
       "      <th>latitude</th>\n",
       "      <th>longitude</th>\n",
       "      <th>depth</th>\n",
       "      <th>mag</th>\n",
       "      <th>magType</th>\n",
       "      <th>nst</th>\n",
       "      <th>gap</th>\n",
       "      <th>dmin</th>\n",
       "      <th>rms</th>\n",
       "      <th>...</th>\n",
       "      <th>type</th>\n",
       "      <th>horizontalError</th>\n",
       "      <th>depthError</th>\n",
       "      <th>magError</th>\n",
       "      <th>magNst</th>\n",
       "      <th>status</th>\n",
       "      <th>locationSource</th>\n",
       "      <th>magSource</th>\n",
       "      <th>state_country</th>\n",
       "      <th>country</th>\n",
       "    </tr>\n",
       "    <tr>\n",
       "      <th>time</th>\n",
       "      <th></th>\n",
       "      <th></th>\n",
       "      <th></th>\n",
       "      <th></th>\n",
       "      <th></th>\n",
       "      <th></th>\n",
       "      <th></th>\n",
       "      <th></th>\n",
       "      <th></th>\n",
       "      <th></th>\n",
       "      <th></th>\n",
       "      <th></th>\n",
       "      <th></th>\n",
       "      <th></th>\n",
       "      <th></th>\n",
       "      <th></th>\n",
       "      <th></th>\n",
       "      <th></th>\n",
       "      <th></th>\n",
       "      <th></th>\n",
       "      <th></th>\n",
       "    </tr>\n",
       "  </thead>\n",
       "  <tbody>\n",
       "    <tr>\n",
       "      <th>2023-11-15 09:05:07.304000+00:00</th>\n",
       "      <td>2023-11-15 09:05:07.304000+00:00</td>\n",
       "      <td>61.580800</td>\n",
       "      <td>-149.847000</td>\n",
       "      <td>32.800000</td>\n",
       "      <td>1.70</td>\n",
       "      <td>ml</td>\n",
       "      <td>0</td>\n",
       "      <td>0.0</td>\n",
       "      <td>0.0</td>\n",
       "      <td>0.22</td>\n",
       "      <td>...</td>\n",
       "      <td>earthquake</td>\n",
       "      <td>0.00</td>\n",
       "      <td>0.20</td>\n",
       "      <td>0.00</td>\n",
       "      <td>0</td>\n",
       "      <td>automatic</td>\n",
       "      <td>ak</td>\n",
       "      <td>ak</td>\n",
       "      <td>Beavertail Drive, Matanuska-Susitna, Alaska, U...</td>\n",
       "      <td>United States</td>\n",
       "    </tr>\n",
       "    <tr>\n",
       "      <th>2023-11-15 08:53:06.688000+00:00</th>\n",
       "      <td>2023-11-15 08:53:06.688000+00:00</td>\n",
       "      <td>61.079400</td>\n",
       "      <td>-147.883000</td>\n",
       "      <td>14.800000</td>\n",
       "      <td>1.00</td>\n",
       "      <td>ml</td>\n",
       "      <td>0</td>\n",
       "      <td>0.0</td>\n",
       "      <td>0.0</td>\n",
       "      <td>0.80</td>\n",
       "      <td>...</td>\n",
       "      <td>earthquake</td>\n",
       "      <td>0.00</td>\n",
       "      <td>0.30</td>\n",
       "      <td>0.00</td>\n",
       "      <td>0</td>\n",
       "      <td>automatic</td>\n",
       "      <td>ak</td>\n",
       "      <td>ak</td>\n",
       "      <td>Chugach, Alaska, United States</td>\n",
       "      <td>United States</td>\n",
       "    </tr>\n",
       "    <tr>\n",
       "      <th>2023-11-15 08:41:52.480000+00:00</th>\n",
       "      <td>2023-11-15 08:41:52.480000+00:00</td>\n",
       "      <td>19.380667</td>\n",
       "      <td>-155.285339</td>\n",
       "      <td>0.320000</td>\n",
       "      <td>1.73</td>\n",
       "      <td>md</td>\n",
       "      <td>15</td>\n",
       "      <td>153.0</td>\n",
       "      <td>0.0</td>\n",
       "      <td>0.20</td>\n",
       "      <td>...</td>\n",
       "      <td>earthquake</td>\n",
       "      <td>0.33</td>\n",
       "      <td>0.38</td>\n",
       "      <td>0.59</td>\n",
       "      <td>15</td>\n",
       "      <td>automatic</td>\n",
       "      <td>hv</td>\n",
       "      <td>hv</td>\n",
       "      <td>Volcano, Volcano CDP, Hawaiʻi County, Hawaii, ...</td>\n",
       "      <td>United States</td>\n",
       "    </tr>\n",
       "    <tr>\n",
       "      <th>2023-11-15 07:44:53.035000+00:00</th>\n",
       "      <td>2023-11-15 07:44:53.035000+00:00</td>\n",
       "      <td>61.638200</td>\n",
       "      <td>-149.782800</td>\n",
       "      <td>32.900000</td>\n",
       "      <td>1.90</td>\n",
       "      <td>ml</td>\n",
       "      <td>0</td>\n",
       "      <td>0.0</td>\n",
       "      <td>0.0</td>\n",
       "      <td>0.31</td>\n",
       "      <td>...</td>\n",
       "      <td>earthquake</td>\n",
       "      <td>0.00</td>\n",
       "      <td>0.20</td>\n",
       "      <td>0.00</td>\n",
       "      <td>0</td>\n",
       "      <td>automatic</td>\n",
       "      <td>ak</td>\n",
       "      <td>ak</td>\n",
       "      <td>Houston, Matanuska-Susitna, Alaska, 99694, Uni...</td>\n",
       "      <td>United States</td>\n",
       "    </tr>\n",
       "    <tr>\n",
       "      <th>2023-11-15 07:19:44.540000+00:00</th>\n",
       "      <td>2023-11-15 07:19:44.540000+00:00</td>\n",
       "      <td>18.972166</td>\n",
       "      <td>-155.451660</td>\n",
       "      <td>34.759998</td>\n",
       "      <td>1.87</td>\n",
       "      <td>md</td>\n",
       "      <td>37</td>\n",
       "      <td>236.0</td>\n",
       "      <td>0.0</td>\n",
       "      <td>0.12</td>\n",
       "      <td>...</td>\n",
       "      <td>earthquake</td>\n",
       "      <td>0.71</td>\n",
       "      <td>0.89</td>\n",
       "      <td>0.88</td>\n",
       "      <td>5</td>\n",
       "      <td>automatic</td>\n",
       "      <td>hv</td>\n",
       "      <td>hv</td>\n",
       "      <td>United States</td>\n",
       "      <td>United States</td>\n",
       "    </tr>\n",
       "  </tbody>\n",
       "</table>\n",
       "<p>5 rows × 24 columns</p>\n",
       "</div>"
      ],
      "text/plain": [
       "                                                            time.1   latitude  \\\n",
       "time                                                                            \n",
       "2023-11-15 09:05:07.304000+00:00  2023-11-15 09:05:07.304000+00:00  61.580800   \n",
       "2023-11-15 08:53:06.688000+00:00  2023-11-15 08:53:06.688000+00:00  61.079400   \n",
       "2023-11-15 08:41:52.480000+00:00  2023-11-15 08:41:52.480000+00:00  19.380667   \n",
       "2023-11-15 07:44:53.035000+00:00  2023-11-15 07:44:53.035000+00:00  61.638200   \n",
       "2023-11-15 07:19:44.540000+00:00  2023-11-15 07:19:44.540000+00:00  18.972166   \n",
       "\n",
       "                                   longitude      depth   mag magType  nst  \\\n",
       "time                                                                         \n",
       "2023-11-15 09:05:07.304000+00:00 -149.847000  32.800000  1.70      ml    0   \n",
       "2023-11-15 08:53:06.688000+00:00 -147.883000  14.800000  1.00      ml    0   \n",
       "2023-11-15 08:41:52.480000+00:00 -155.285339   0.320000  1.73      md   15   \n",
       "2023-11-15 07:44:53.035000+00:00 -149.782800  32.900000  1.90      ml    0   \n",
       "2023-11-15 07:19:44.540000+00:00 -155.451660  34.759998  1.87      md   37   \n",
       "\n",
       "                                    gap  dmin   rms  ...        type  \\\n",
       "time                                                 ...               \n",
       "2023-11-15 09:05:07.304000+00:00    0.0   0.0  0.22  ...  earthquake   \n",
       "2023-11-15 08:53:06.688000+00:00    0.0   0.0  0.80  ...  earthquake   \n",
       "2023-11-15 08:41:52.480000+00:00  153.0   0.0  0.20  ...  earthquake   \n",
       "2023-11-15 07:44:53.035000+00:00    0.0   0.0  0.31  ...  earthquake   \n",
       "2023-11-15 07:19:44.540000+00:00  236.0   0.0  0.12  ...  earthquake   \n",
       "\n",
       "                                 horizontalError depthError magError magNst  \\\n",
       "time                                                                          \n",
       "2023-11-15 09:05:07.304000+00:00            0.00       0.20     0.00      0   \n",
       "2023-11-15 08:53:06.688000+00:00            0.00       0.30     0.00      0   \n",
       "2023-11-15 08:41:52.480000+00:00            0.33       0.38     0.59     15   \n",
       "2023-11-15 07:44:53.035000+00:00            0.00       0.20     0.00      0   \n",
       "2023-11-15 07:19:44.540000+00:00            0.71       0.89     0.88      5   \n",
       "\n",
       "                                     status  locationSource  magSource  \\\n",
       "time                                                                     \n",
       "2023-11-15 09:05:07.304000+00:00  automatic              ak         ak   \n",
       "2023-11-15 08:53:06.688000+00:00  automatic              ak         ak   \n",
       "2023-11-15 08:41:52.480000+00:00  automatic              hv         hv   \n",
       "2023-11-15 07:44:53.035000+00:00  automatic              ak         ak   \n",
       "2023-11-15 07:19:44.540000+00:00  automatic              hv         hv   \n",
       "\n",
       "                                                                      state_country  \\\n",
       "time                                                                                  \n",
       "2023-11-15 09:05:07.304000+00:00  Beavertail Drive, Matanuska-Susitna, Alaska, U...   \n",
       "2023-11-15 08:53:06.688000+00:00                     Chugach, Alaska, United States   \n",
       "2023-11-15 08:41:52.480000+00:00  Volcano, Volcano CDP, Hawaiʻi County, Hawaii, ...   \n",
       "2023-11-15 07:44:53.035000+00:00  Houston, Matanuska-Susitna, Alaska, 99694, Uni...   \n",
       "2023-11-15 07:19:44.540000+00:00                                      United States   \n",
       "\n",
       "                                        country  \n",
       "time                                             \n",
       "2023-11-15 09:05:07.304000+00:00  United States  \n",
       "2023-11-15 08:53:06.688000+00:00  United States  \n",
       "2023-11-15 08:41:52.480000+00:00  United States  \n",
       "2023-11-15 07:44:53.035000+00:00  United States  \n",
       "2023-11-15 07:19:44.540000+00:00  United States  \n",
       "\n",
       "[5 rows x 24 columns]"
      ]
     },
     "execution_count": 20,
     "metadata": {},
     "output_type": "execute_result"
    }
   ],
   "source": [
    "df.head()"
   ]
  },
  {
   "cell_type": "markdown",
   "id": "e1c6cac3",
   "metadata": {},
   "source": [
    "Now, we will do a count to see the country that is most associated with siesmic activities during the timeframe"
   ]
  },
  {
   "cell_type": "code",
   "execution_count": 21,
   "id": "67505561",
   "metadata": {},
   "outputs": [
    {
     "data": {
      "text/plain": [
       "United States                     15158\n",
       "No location found                  2324\n",
       "Indonesia                           302\n",
       "Canada                              189\n",
       "Papua New Guinea                    165\n",
       "                                  ...  \n",
       "South Sudan                           1\n",
       "Federated States of Micronesia        1\n",
       "Oman                                  1\n",
       "Zambia                                1\n",
       "Uzbekistan                            1\n",
       "Name: country, Length: 79, dtype: int64"
      ]
     },
     "execution_count": 21,
     "metadata": {},
     "output_type": "execute_result"
    }
   ],
   "source": [
    "df.country.value_counts()"
   ]
  },
  {
   "cell_type": "markdown",
   "id": "69422ec4",
   "metadata": {},
   "source": [
    "**As observed earlier, the United States recorded the highest number of seismic events, totaling 15,158, constituting approximately 78% of the total events. Indonesia and Canada followed in frequency.**"
   ]
  },
  {
   "cell_type": "markdown",
   "id": "ee972ec5",
   "metadata": {},
   "source": [
    "# REFRENCES\n",
    "\n",
    "The United States Geological Survey. (2018). Volcano Watch — Why do some earthquakes have negative depths? [Online], available: https://www.usgs.gov/observatories/hvo/news/volcano-watch-why-do-some-earthquakes-have-negative-         depths#:~:text=Positive%20depths%20indicate%20downward%20from,by%20Earth's%20gravity%20and%20rotation. [accessed 25 November, 2023] \n",
    "\n",
    "University of Alaska's Fairbanks. (2018). THREE STAGES OF EARTHQUAKE LOCATIONS: AUTOMATIC, REVIEWED, REVISED. [Online], available: https://earthquake.alaska.edu/three-stages-earthquake-locations-automatic-reviewed-revised. [accessed 25 November 2023]"
   ]
  }
 ],
 "metadata": {
  "kernelspec": {
   "display_name": "Python 3 (ipykernel)",
   "language": "python",
   "name": "python3"
  },
  "language_info": {
   "codemirror_mode": {
    "name": "ipython",
    "version": 3
   },
   "file_extension": ".py",
   "mimetype": "text/x-python",
   "name": "python",
   "nbconvert_exporter": "python",
   "pygments_lexer": "ipython3",
   "version": "3.9.12"
  }
 },
 "nbformat": 4,
 "nbformat_minor": 5
}
